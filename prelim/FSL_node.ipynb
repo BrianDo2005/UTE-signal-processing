{
 "cells": [
  {
   "cell_type": "code",
   "execution_count": 12,
   "metadata": {
    "collapsed": true
   },
   "outputs": [],
   "source": [
    "import nipype.interfaces.fsl as fsl\n",
    "#importing in the nipype interface \n",
    "import nipype.pipeline.engine as pe\n",
    "#importing in the wrappers for nodes and workflows"
   ]
  },
  {
   "cell_type": "code",
   "execution_count": 13,
   "metadata": {
    "collapsed": false
   },
   "outputs": [],
   "source": [
    "#create stand-alone node \n",
    "sample_bet = pe.Node(interface=fsl.BET(), name = 'bet')\n",
    "sample_bet.inputs.in_file = 'ms1297-mse4664-007-MPRAGE_iso_1_pve_2.nii.gz'\n",
    "sample_bet.inputs.frac = 0.7\n",
    "#sample_bet.inputs.out_file = 'file.nii.gz'\n",
    "#sample_bet.run() \n",
    "#not going to run from here bc this is node, not instance "
   ]
  },
  {
   "cell_type": "code",
   "execution_count": 14,
   "metadata": {
    "collapsed": false
   },
   "outputs": [],
   "source": [
    "#freeview -v result.outputs.out_file.nii.gz\n",
    "#file_bet.nii.gz:colormap=jet\n",
    "#check results of the execution "
   ]
  },
  {
   "cell_type": "code",
   "execution_count": 15,
   "metadata": {
    "collapsed": false
   },
   "outputs": [],
   "source": [
    "sample_fast = pe.Node(interface=fsl.FAST(), name='fast')\n",
    "#maybe this in_file shouldn't be defined if it's defined in the workflow connection?\n",
    "#sample_fast.inputs.in_files = sample_bet.result.outputs.out_file\n",
    "#routing the BET output as FAST input "
   ]
  },
  {
   "cell_type": "code",
   "execution_count": 17,
   "metadata": {
    "collapsed": false
   },
   "outputs": [],
   "source": [
    "#create a workflow \n",
    "workflow = pe.Workflow(name='preproc')\n",
    "#preproc = preprocessing\n",
    "workflow.base_dir = '.'"
   ]
  },
  {
   "cell_type": "code",
   "execution_count": 18,
   "metadata": {
    "collapsed": true
   },
   "outputs": [],
   "source": [
    "workflow.add_nodes([sample_bet, sample_fast])\n",
    "#adds the nodes to the workflow"
   ]
  },
  {
   "cell_type": "code",
   "execution_count": 21,
   "metadata": {
    "collapsed": false,
    "scrolled": true
   },
   "outputs": [
    {
     "ename": "Exception",
     "evalue": "Some connections were not found\nModule bet has no output called results.outputs.out_file\n",
     "output_type": "error",
     "traceback": [
      "\u001b[0;31m---------------------------------------------------------------------------\u001b[0m",
      "\u001b[0;31mException\u001b[0m                                 Traceback (most recent call last)",
      "\u001b[0;32m<ipython-input-21-274eb26656e7>\u001b[0m in \u001b[0;36m<module>\u001b[0;34m()\u001b[0m\n\u001b[1;32m      1\u001b[0m \u001b[0;31m#connecting the nodes together\u001b[0m\u001b[0;34m\u001b[0m\u001b[0;34m\u001b[0m\u001b[0m\n\u001b[0;32m----> 2\u001b[0;31m \u001b[0mworkflow\u001b[0m\u001b[0;34m.\u001b[0m\u001b[0mconnect\u001b[0m\u001b[0;34m(\u001b[0m\u001b[0msample_bet\u001b[0m\u001b[0;34m,\u001b[0m \u001b[0;34m'results.outputs.out_file'\u001b[0m\u001b[0;34m,\u001b[0m \u001b[0msample_fast\u001b[0m\u001b[0;34m,\u001b[0m \u001b[0;34m'in_files'\u001b[0m\u001b[0;34m)\u001b[0m\u001b[0;34m\u001b[0m\u001b[0m\n\u001b[0m",
      "\u001b[0;32m/data/henry1/keshavan/anaconda/envs/ak3/lib/python3.5/site-packages/nipype-0.13.0_gd0517d2.dev-py3.5.egg/nipype/pipeline/engine/workflows.py\u001b[0m in \u001b[0;36mconnect\u001b[0;34m(self, *args, **kwargs)\u001b[0m\n\u001b[1;32m    226\u001b[0m         \u001b[0;32mif\u001b[0m \u001b[0mnot_found\u001b[0m\u001b[0;34m:\u001b[0m\u001b[0;34m\u001b[0m\u001b[0m\n\u001b[1;32m    227\u001b[0m             raise Exception('\\n'.join(['Some connections were not found'] +\n\u001b[0;32m--> 228\u001b[0;31m                                       infostr))\n\u001b[0m\u001b[1;32m    229\u001b[0m \u001b[0;34m\u001b[0m\u001b[0m\n\u001b[1;32m    230\u001b[0m         \u001b[0;31m# turn functions into strings\u001b[0m\u001b[0;34m\u001b[0m\u001b[0;34m\u001b[0m\u001b[0m\n",
      "\u001b[0;31mException\u001b[0m: Some connections were not found\nModule bet has no output called results.outputs.out_file\n"
     ]
    }
   ],
   "source": [
    "#connecting the nodes together \n",
    "workflow.connect(sample_bet, 'results.outputs.out_file', sample_fast, 'in_files') "
   ]
  },
  {
   "cell_type": "code",
   "execution_count": null,
   "metadata": {
    "collapsed": true
   },
   "outputs": [],
   "source": [
    "#visualizing the workflow\n",
    "workflow.write_graph() "
   ]
  }
 ],
 "metadata": {
  "kernelspec": {
   "display_name": "Python 3",
   "language": "python",
   "name": "python3"
  },
  "language_info": {
   "codemirror_mode": {
    "name": "ipython",
    "version": 3
   },
   "file_extension": ".py",
   "mimetype": "text/x-python",
   "name": "python",
   "nbconvert_exporter": "python",
   "pygments_lexer": "ipython3",
   "version": "3.5.2"
  }
 },
 "nbformat": 4,
 "nbformat_minor": 0
}
