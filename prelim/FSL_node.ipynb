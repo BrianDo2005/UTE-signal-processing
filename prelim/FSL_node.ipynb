{
 "cells": [
  {
   "cell_type": "code",
   "execution_count": 1,
   "metadata": {
    "collapsed": true
   },
   "outputs": [],
   "source": [
    "import nipype.interfaces.fsl as fsl\n",
    "#importing in the nipype interface "
   ]
  },
  {
   "cell_type": "code",
   "execution_count": null,
   "metadata": {
    "collapsed": false
   },
   "outputs": [],
   "source": [
    "#create stand-alone node \n",
    "sample_bet = pe.Node(interface=fsl.BET(), name = 'bet')\n",
    "sample_bet.inputs.in_file = 'file.nii.gz'\n",
    "sample_bet.inputs.frac = 0.7\n",
    "sample_bet.inputs.out_file = 'file.nii.gz'\n",
    "#sample_bet.run() \n",
    "#not going to run from here bc this is node, not instance "
   ]
  },
  {
   "cell_type": "code",
   "execution_count": null,
   "metadata": {
    "collapsed": true
   },
   "outputs": [],
   "source": [
    "freeview -v file.nii.gz \\ file_bet.nii.gz:colormap=jet\n",
    "#check results of the execution "
   ]
  },
  {
   "cell_type": "code",
   "execution_count": null,
   "metadata": {
    "collapsed": true
   },
   "outputs": [],
   "source": [
    "sample_fast = fsl.FAST()\n",
    "#maybe this in_file shouldn't be defined if it's defined in the workflow connection?\n",
    "sample_fast.inputs.in_files = results.outputs.out_file\n",
    "#routing the BET output as FAST input "
   ]
  },
  {
   "cell_type": "code",
   "execution_count": null,
   "metadata": {
    "collapsed": true
   },
   "outputs": [],
   "source": [
    "#create a workflow \n",
    "workflow = pe.Workflow(name=preproc)\n",
    "#preproc = preprocessing\n",
    "workflow.base_dir = '.'"
   ]
  },
  {
   "cell_type": "code",
   "execution_count": null,
   "metadata": {
    "collapsed": true
   },
   "outputs": [],
   "source": [
    "workflow.add_nodes([sample_bet, sample_fast])\n",
    "#adds the nodes to the workflow"
   ]
  },
  {
   "cell_type": "code",
   "execution_count": null,
   "metadata": {
    "collapsed": true
   },
   "outputs": [],
   "source": [
    "#connecting the nodes together \n",
    "workflow.connect(sample_bet, 'result.outputs.out_file', sample_fast, 'in files') "
   ]
  },
  {
   "cell_type": "code",
   "execution_count": null,
   "metadata": {
    "collapsed": true
   },
   "outputs": [],
   "source": [
    "#visualizing the workflow\n",
    "workflow.write_graph() "
   ]
  }
 ],
 "metadata": {
  "kernelspec": {
   "display_name": "Python 3",
   "language": "python",
   "name": "python3"
  },
  "language_info": {
   "codemirror_mode": {
    "name": "ipython",
    "version": 3
   },
   "file_extension": ".py",
   "mimetype": "text/x-python",
   "name": "python",
   "nbconvert_exporter": "python",
   "pygments_lexer": "ipython3",
   "version": "3.5.2"
  }
 },
 "nbformat": 4,
 "nbformat_minor": 0
}
