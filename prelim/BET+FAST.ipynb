{
 "cells": [
  {
   "cell_type": "code",
   "execution_count": null,
   "metadata": {
    "collapsed": false,
    "scrolled": true
   },
   "outputs": [
    {
     "name": "stdout",
     "output_type": "stream",
     "text": [
      "-------- freesurfer-Linux-centos4_x86_64-stable-pub-v5.3.0 --------\n",
      "Setting up environment for FreeSurfer/FS-FAST (and FSL)\n",
      "FREESURFER_HOME   /data/henry6/keshavan/software/freesurfer\n",
      "FSFAST_HOME       /data/henry6/keshavan/software/freesurfer/fsfast\n",
      "FSF_OUTPUT_FORMAT nii.gz\n",
      "SUBJECTS_DIR      /data/henry6/PBR/surfaces\n",
      "MNI_DIR           /data/henry6/keshavan/software/freesurfer/mni\n",
      "FSL_DIR           /netopt/fsl5/\n",
      "\u001b[1;37m\u001b[44m\u001b[0;0m\u001b[0;33m[21:49]\u001b[0m\u001b[1;32m[2.36]\u001b[0m\u001b[1;32m[-73%]\u001b[0m\u001b[1;39musuresh@euler:uday$\u001b[0m "
     ]
    }
   ],
   "source": [
    "!bash"
   ]
  },
  {
   "cell_type": "code",
   "execution_count": null,
   "metadata": {
    "collapsed": false
   },
   "outputs": [],
   "source": [
    "import nipype.interfaces.fsl as fsl "
   ]
  },
  {
   "cell_type": "code",
   "execution_count": null,
   "metadata": {
    "collapsed": false
   },
   "outputs": [],
   "source": [
    "fsl.BET"
   ]
  },
  {
   "cell_type": "code",
   "execution_count": null,
   "metadata": {
    "collapsed": false
   },
   "outputs": [],
   "source": [
    "btr = fsl.BET()\n",
    "#placeholder? \n",
    "btr.inputs.in_file = 'file.nii.gz'\n",
    "btr.inputs.frac = 0.7\n",
    "#frac = fractional intensity threshold \n",
    "print(btr.cmdline)"
   ]
  },
  {
   "cell_type": "code",
   "execution_count": null,
   "metadata": {
    "collapsed": false
   },
   "outputs": [],
   "source": [
    "fastr = fsl.FAST()\n",
    "#again, placeholder? \n",
    "fastr.inputs.in_files = 'file.nii.gz'\n",
    "out = fastr.run() \n",
    "#assuming it automatically drops the outfile in the same directory "
   ]
  },
  {
   "cell_type": "code",
   "execution_count": null,
   "metadata": {
    "collapsed": true
   },
   "outputs": [],
   "source": []
  }
 ],
 "metadata": {
  "kernelspec": {
   "display_name": "Python 3",
   "language": "python",
   "name": "python3"
  },
  "language_info": {
   "codemirror_mode": {
    "name": "ipython",
    "version": 3
   },
   "file_extension": ".py",
   "mimetype": "text/x-python",
   "name": "python",
   "nbconvert_exporter": "python",
   "pygments_lexer": "ipython3",
   "version": "3.5.2"
  }
 },
 "nbformat": 4,
 "nbformat_minor": 0
}
